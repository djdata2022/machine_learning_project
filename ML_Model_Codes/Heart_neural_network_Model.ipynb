{
  "cells": [
    {
      "cell_type": "markdown",
      "source": [
        "## Create Sequential Model for Heart Disease Dataset"
      ],
      "metadata": {
        "id": "jebQ9bTGrRIz"
      }
    },
    {
      "cell_type": "code",
      "execution_count": 1,
      "metadata": {
        "id": "vU-8HD6jq7Hi"
      },
      "outputs": [],
      "source": [
        "# Import our dependencies\n",
        "import pandas as pd\n",
        "import matplotlib as plt\n",
        "from sklearn.datasets import make_blobs\n",
        "import sklearn as skl\n",
        "import tensorflow as tf\n",
        "import numpy as np\n",
        "from sklearn.metrics import classification_report"
      ]
    },
    {
      "cell_type": "code",
      "execution_count": 2,
      "metadata": {
        "colab": {
          "base_uri": "https://localhost:8080/",
          "height": 268
        },
        "id": "lV7U5nsXq7Hl",
        "outputId": "aa346ad3-8b9c-4643-d783-30577c99f708"
      },
      "outputs": [
        {
          "output_type": "execute_result",
          "data": {
            "text/plain": [
              "   Age  Sex  Chest pain type   BP  Cholesterol  FBS over 120  EKG results  \\\n",
              "0   70    1                4  130          322             0            2   \n",
              "1   67    0                3  115          564             0            2   \n",
              "2   57    1                2  124          261             0            0   \n",
              "3   64    1                4  128          263             0            0   \n",
              "4   74    0                2  120          269             0            2   \n",
              "\n",
              "   Max HR  Exercise angina  ST depression  Slope of ST  \\\n",
              "0     109                0            2.4            2   \n",
              "1     160                0            1.6            2   \n",
              "2     141                0            0.3            1   \n",
              "3     105                1            0.2            2   \n",
              "4     121                1            0.2            1   \n",
              "\n",
              "   Number of vessels fluro  Thallium Heart Disease  \n",
              "0                        3         3      Presence  \n",
              "1                        0         7       Absence  \n",
              "2                        0         7      Presence  \n",
              "3                        1         7       Absence  \n",
              "4                        1         3       Absence  "
            ],
            "text/html": [
              "\n",
              "  <div id=\"df-77fb4833-b4da-4fc5-8ddd-cd2cf95ce4da\">\n",
              "    <div class=\"colab-df-container\">\n",
              "      <div>\n",
              "<style scoped>\n",
              "    .dataframe tbody tr th:only-of-type {\n",
              "        vertical-align: middle;\n",
              "    }\n",
              "\n",
              "    .dataframe tbody tr th {\n",
              "        vertical-align: top;\n",
              "    }\n",
              "\n",
              "    .dataframe thead th {\n",
              "        text-align: right;\n",
              "    }\n",
              "</style>\n",
              "<table border=\"1\" class=\"dataframe\">\n",
              "  <thead>\n",
              "    <tr style=\"text-align: right;\">\n",
              "      <th></th>\n",
              "      <th>Age</th>\n",
              "      <th>Sex</th>\n",
              "      <th>Chest pain type</th>\n",
              "      <th>BP</th>\n",
              "      <th>Cholesterol</th>\n",
              "      <th>FBS over 120</th>\n",
              "      <th>EKG results</th>\n",
              "      <th>Max HR</th>\n",
              "      <th>Exercise angina</th>\n",
              "      <th>ST depression</th>\n",
              "      <th>Slope of ST</th>\n",
              "      <th>Number of vessels fluro</th>\n",
              "      <th>Thallium</th>\n",
              "      <th>Heart Disease</th>\n",
              "    </tr>\n",
              "  </thead>\n",
              "  <tbody>\n",
              "    <tr>\n",
              "      <th>0</th>\n",
              "      <td>70</td>\n",
              "      <td>1</td>\n",
              "      <td>4</td>\n",
              "      <td>130</td>\n",
              "      <td>322</td>\n",
              "      <td>0</td>\n",
              "      <td>2</td>\n",
              "      <td>109</td>\n",
              "      <td>0</td>\n",
              "      <td>2.4</td>\n",
              "      <td>2</td>\n",
              "      <td>3</td>\n",
              "      <td>3</td>\n",
              "      <td>Presence</td>\n",
              "    </tr>\n",
              "    <tr>\n",
              "      <th>1</th>\n",
              "      <td>67</td>\n",
              "      <td>0</td>\n",
              "      <td>3</td>\n",
              "      <td>115</td>\n",
              "      <td>564</td>\n",
              "      <td>0</td>\n",
              "      <td>2</td>\n",
              "      <td>160</td>\n",
              "      <td>0</td>\n",
              "      <td>1.6</td>\n",
              "      <td>2</td>\n",
              "      <td>0</td>\n",
              "      <td>7</td>\n",
              "      <td>Absence</td>\n",
              "    </tr>\n",
              "    <tr>\n",
              "      <th>2</th>\n",
              "      <td>57</td>\n",
              "      <td>1</td>\n",
              "      <td>2</td>\n",
              "      <td>124</td>\n",
              "      <td>261</td>\n",
              "      <td>0</td>\n",
              "      <td>0</td>\n",
              "      <td>141</td>\n",
              "      <td>0</td>\n",
              "      <td>0.3</td>\n",
              "      <td>1</td>\n",
              "      <td>0</td>\n",
              "      <td>7</td>\n",
              "      <td>Presence</td>\n",
              "    </tr>\n",
              "    <tr>\n",
              "      <th>3</th>\n",
              "      <td>64</td>\n",
              "      <td>1</td>\n",
              "      <td>4</td>\n",
              "      <td>128</td>\n",
              "      <td>263</td>\n",
              "      <td>0</td>\n",
              "      <td>0</td>\n",
              "      <td>105</td>\n",
              "      <td>1</td>\n",
              "      <td>0.2</td>\n",
              "      <td>2</td>\n",
              "      <td>1</td>\n",
              "      <td>7</td>\n",
              "      <td>Absence</td>\n",
              "    </tr>\n",
              "    <tr>\n",
              "      <th>4</th>\n",
              "      <td>74</td>\n",
              "      <td>0</td>\n",
              "      <td>2</td>\n",
              "      <td>120</td>\n",
              "      <td>269</td>\n",
              "      <td>0</td>\n",
              "      <td>2</td>\n",
              "      <td>121</td>\n",
              "      <td>1</td>\n",
              "      <td>0.2</td>\n",
              "      <td>1</td>\n",
              "      <td>1</td>\n",
              "      <td>3</td>\n",
              "      <td>Absence</td>\n",
              "    </tr>\n",
              "  </tbody>\n",
              "</table>\n",
              "</div>\n",
              "      <button class=\"colab-df-convert\" onclick=\"convertToInteractive('df-77fb4833-b4da-4fc5-8ddd-cd2cf95ce4da')\"\n",
              "              title=\"Convert this dataframe to an interactive table.\"\n",
              "              style=\"display:none;\">\n",
              "        \n",
              "  <svg xmlns=\"http://www.w3.org/2000/svg\" height=\"24px\"viewBox=\"0 0 24 24\"\n",
              "       width=\"24px\">\n",
              "    <path d=\"M0 0h24v24H0V0z\" fill=\"none\"/>\n",
              "    <path d=\"M18.56 5.44l.94 2.06.94-2.06 2.06-.94-2.06-.94-.94-2.06-.94 2.06-2.06.94zm-11 1L8.5 8.5l.94-2.06 2.06-.94-2.06-.94L8.5 2.5l-.94 2.06-2.06.94zm10 10l.94 2.06.94-2.06 2.06-.94-2.06-.94-.94-2.06-.94 2.06-2.06.94z\"/><path d=\"M17.41 7.96l-1.37-1.37c-.4-.4-.92-.59-1.43-.59-.52 0-1.04.2-1.43.59L10.3 9.45l-7.72 7.72c-.78.78-.78 2.05 0 2.83L4 21.41c.39.39.9.59 1.41.59.51 0 1.02-.2 1.41-.59l7.78-7.78 2.81-2.81c.8-.78.8-2.07 0-2.86zM5.41 20L4 18.59l7.72-7.72 1.47 1.35L5.41 20z\"/>\n",
              "  </svg>\n",
              "      </button>\n",
              "      \n",
              "  <style>\n",
              "    .colab-df-container {\n",
              "      display:flex;\n",
              "      flex-wrap:wrap;\n",
              "      gap: 12px;\n",
              "    }\n",
              "\n",
              "    .colab-df-convert {\n",
              "      background-color: #E8F0FE;\n",
              "      border: none;\n",
              "      border-radius: 50%;\n",
              "      cursor: pointer;\n",
              "      display: none;\n",
              "      fill: #1967D2;\n",
              "      height: 32px;\n",
              "      padding: 0 0 0 0;\n",
              "      width: 32px;\n",
              "    }\n",
              "\n",
              "    .colab-df-convert:hover {\n",
              "      background-color: #E2EBFA;\n",
              "      box-shadow: 0px 1px 2px rgba(60, 64, 67, 0.3), 0px 1px 3px 1px rgba(60, 64, 67, 0.15);\n",
              "      fill: #174EA6;\n",
              "    }\n",
              "\n",
              "    [theme=dark] .colab-df-convert {\n",
              "      background-color: #3B4455;\n",
              "      fill: #D2E3FC;\n",
              "    }\n",
              "\n",
              "    [theme=dark] .colab-df-convert:hover {\n",
              "      background-color: #434B5C;\n",
              "      box-shadow: 0px 1px 3px 1px rgba(0, 0, 0, 0.15);\n",
              "      filter: drop-shadow(0px 1px 2px rgba(0, 0, 0, 0.3));\n",
              "      fill: #FFFFFF;\n",
              "    }\n",
              "  </style>\n",
              "\n",
              "      <script>\n",
              "        const buttonEl =\n",
              "          document.querySelector('#df-77fb4833-b4da-4fc5-8ddd-cd2cf95ce4da button.colab-df-convert');\n",
              "        buttonEl.style.display =\n",
              "          google.colab.kernel.accessAllowed ? 'block' : 'none';\n",
              "\n",
              "        async function convertToInteractive(key) {\n",
              "          const element = document.querySelector('#df-77fb4833-b4da-4fc5-8ddd-cd2cf95ce4da');\n",
              "          const dataTable =\n",
              "            await google.colab.kernel.invokeFunction('convertToInteractive',\n",
              "                                                     [key], {});\n",
              "          if (!dataTable) return;\n",
              "\n",
              "          const docLinkHtml = 'Like what you see? Visit the ' +\n",
              "            '<a target=\"_blank\" href=https://colab.research.google.com/notebooks/data_table.ipynb>data table notebook</a>'\n",
              "            + ' to learn more about interactive tables.';\n",
              "          element.innerHTML = '';\n",
              "          dataTable['output_type'] = 'display_data';\n",
              "          await google.colab.output.renderOutput(dataTable, element);\n",
              "          const docLink = document.createElement('div');\n",
              "          docLink.innerHTML = docLinkHtml;\n",
              "          element.appendChild(docLink);\n",
              "        }\n",
              "      </script>\n",
              "    </div>\n",
              "  </div>\n",
              "  "
            ]
          },
          "metadata": {},
          "execution_count": 2
        }
      ],
      "source": [
        "# Read the CSV file into a Pandas DataFrame\n",
        "# df_heart = pd.read_csv(\"../Resources/Heart_Disease_Prediction.csv\")\n",
        "df_heart = pd.read_csv(\"Heart_Disease_Prediction.csv\")\n",
        "# Review the DataFrame\n",
        "df_heart.head()"
      ]
    },
    {
      "cell_type": "code",
      "execution_count": 3,
      "metadata": {
        "colab": {
          "base_uri": "https://localhost:8080/",
          "height": 268
        },
        "id": "rv367ynrq7Hm",
        "outputId": "e6d8a529-038a-4a39-f28a-d928344c46b8"
      },
      "outputs": [
        {
          "output_type": "execute_result",
          "data": {
            "text/plain": [
              "   Age  Sex  Chest pain type   BP  Cholesterol  FBS over 120  EKG results  \\\n",
              "0   70    1                4  130          322             0            2   \n",
              "1   67    0                3  115          564             0            2   \n",
              "2   57    1                2  124          261             0            0   \n",
              "3   64    1                4  128          263             0            0   \n",
              "4   74    0                2  120          269             0            2   \n",
              "\n",
              "   Max HR  Exercise angina  ST depression  Slope of ST  \\\n",
              "0     109                0            2.4            2   \n",
              "1     160                0            1.6            2   \n",
              "2     141                0            0.3            1   \n",
              "3     105                1            0.2            2   \n",
              "4     121                1            0.2            1   \n",
              "\n",
              "   Number of vessels fluro  Thallium  Heart Disease  \n",
              "0                        3         3              1  \n",
              "1                        0         7              0  \n",
              "2                        0         7              1  \n",
              "3                        1         7              0  \n",
              "4                        1         3              0  "
            ],
            "text/html": [
              "\n",
              "  <div id=\"df-55ca6e04-f518-49d4-874f-8696823bb6bb\">\n",
              "    <div class=\"colab-df-container\">\n",
              "      <div>\n",
              "<style scoped>\n",
              "    .dataframe tbody tr th:only-of-type {\n",
              "        vertical-align: middle;\n",
              "    }\n",
              "\n",
              "    .dataframe tbody tr th {\n",
              "        vertical-align: top;\n",
              "    }\n",
              "\n",
              "    .dataframe thead th {\n",
              "        text-align: right;\n",
              "    }\n",
              "</style>\n",
              "<table border=\"1\" class=\"dataframe\">\n",
              "  <thead>\n",
              "    <tr style=\"text-align: right;\">\n",
              "      <th></th>\n",
              "      <th>Age</th>\n",
              "      <th>Sex</th>\n",
              "      <th>Chest pain type</th>\n",
              "      <th>BP</th>\n",
              "      <th>Cholesterol</th>\n",
              "      <th>FBS over 120</th>\n",
              "      <th>EKG results</th>\n",
              "      <th>Max HR</th>\n",
              "      <th>Exercise angina</th>\n",
              "      <th>ST depression</th>\n",
              "      <th>Slope of ST</th>\n",
              "      <th>Number of vessels fluro</th>\n",
              "      <th>Thallium</th>\n",
              "      <th>Heart Disease</th>\n",
              "    </tr>\n",
              "  </thead>\n",
              "  <tbody>\n",
              "    <tr>\n",
              "      <th>0</th>\n",
              "      <td>70</td>\n",
              "      <td>1</td>\n",
              "      <td>4</td>\n",
              "      <td>130</td>\n",
              "      <td>322</td>\n",
              "      <td>0</td>\n",
              "      <td>2</td>\n",
              "      <td>109</td>\n",
              "      <td>0</td>\n",
              "      <td>2.4</td>\n",
              "      <td>2</td>\n",
              "      <td>3</td>\n",
              "      <td>3</td>\n",
              "      <td>1</td>\n",
              "    </tr>\n",
              "    <tr>\n",
              "      <th>1</th>\n",
              "      <td>67</td>\n",
              "      <td>0</td>\n",
              "      <td>3</td>\n",
              "      <td>115</td>\n",
              "      <td>564</td>\n",
              "      <td>0</td>\n",
              "      <td>2</td>\n",
              "      <td>160</td>\n",
              "      <td>0</td>\n",
              "      <td>1.6</td>\n",
              "      <td>2</td>\n",
              "      <td>0</td>\n",
              "      <td>7</td>\n",
              "      <td>0</td>\n",
              "    </tr>\n",
              "    <tr>\n",
              "      <th>2</th>\n",
              "      <td>57</td>\n",
              "      <td>1</td>\n",
              "      <td>2</td>\n",
              "      <td>124</td>\n",
              "      <td>261</td>\n",
              "      <td>0</td>\n",
              "      <td>0</td>\n",
              "      <td>141</td>\n",
              "      <td>0</td>\n",
              "      <td>0.3</td>\n",
              "      <td>1</td>\n",
              "      <td>0</td>\n",
              "      <td>7</td>\n",
              "      <td>1</td>\n",
              "    </tr>\n",
              "    <tr>\n",
              "      <th>3</th>\n",
              "      <td>64</td>\n",
              "      <td>1</td>\n",
              "      <td>4</td>\n",
              "      <td>128</td>\n",
              "      <td>263</td>\n",
              "      <td>0</td>\n",
              "      <td>0</td>\n",
              "      <td>105</td>\n",
              "      <td>1</td>\n",
              "      <td>0.2</td>\n",
              "      <td>2</td>\n",
              "      <td>1</td>\n",
              "      <td>7</td>\n",
              "      <td>0</td>\n",
              "    </tr>\n",
              "    <tr>\n",
              "      <th>4</th>\n",
              "      <td>74</td>\n",
              "      <td>0</td>\n",
              "      <td>2</td>\n",
              "      <td>120</td>\n",
              "      <td>269</td>\n",
              "      <td>0</td>\n",
              "      <td>2</td>\n",
              "      <td>121</td>\n",
              "      <td>1</td>\n",
              "      <td>0.2</td>\n",
              "      <td>1</td>\n",
              "      <td>1</td>\n",
              "      <td>3</td>\n",
              "      <td>0</td>\n",
              "    </tr>\n",
              "  </tbody>\n",
              "</table>\n",
              "</div>\n",
              "      <button class=\"colab-df-convert\" onclick=\"convertToInteractive('df-55ca6e04-f518-49d4-874f-8696823bb6bb')\"\n",
              "              title=\"Convert this dataframe to an interactive table.\"\n",
              "              style=\"display:none;\">\n",
              "        \n",
              "  <svg xmlns=\"http://www.w3.org/2000/svg\" height=\"24px\"viewBox=\"0 0 24 24\"\n",
              "       width=\"24px\">\n",
              "    <path d=\"M0 0h24v24H0V0z\" fill=\"none\"/>\n",
              "    <path d=\"M18.56 5.44l.94 2.06.94-2.06 2.06-.94-2.06-.94-.94-2.06-.94 2.06-2.06.94zm-11 1L8.5 8.5l.94-2.06 2.06-.94-2.06-.94L8.5 2.5l-.94 2.06-2.06.94zm10 10l.94 2.06.94-2.06 2.06-.94-2.06-.94-.94-2.06-.94 2.06-2.06.94z\"/><path d=\"M17.41 7.96l-1.37-1.37c-.4-.4-.92-.59-1.43-.59-.52 0-1.04.2-1.43.59L10.3 9.45l-7.72 7.72c-.78.78-.78 2.05 0 2.83L4 21.41c.39.39.9.59 1.41.59.51 0 1.02-.2 1.41-.59l7.78-7.78 2.81-2.81c.8-.78.8-2.07 0-2.86zM5.41 20L4 18.59l7.72-7.72 1.47 1.35L5.41 20z\"/>\n",
              "  </svg>\n",
              "      </button>\n",
              "      \n",
              "  <style>\n",
              "    .colab-df-container {\n",
              "      display:flex;\n",
              "      flex-wrap:wrap;\n",
              "      gap: 12px;\n",
              "    }\n",
              "\n",
              "    .colab-df-convert {\n",
              "      background-color: #E8F0FE;\n",
              "      border: none;\n",
              "      border-radius: 50%;\n",
              "      cursor: pointer;\n",
              "      display: none;\n",
              "      fill: #1967D2;\n",
              "      height: 32px;\n",
              "      padding: 0 0 0 0;\n",
              "      width: 32px;\n",
              "    }\n",
              "\n",
              "    .colab-df-convert:hover {\n",
              "      background-color: #E2EBFA;\n",
              "      box-shadow: 0px 1px 2px rgba(60, 64, 67, 0.3), 0px 1px 3px 1px rgba(60, 64, 67, 0.15);\n",
              "      fill: #174EA6;\n",
              "    }\n",
              "\n",
              "    [theme=dark] .colab-df-convert {\n",
              "      background-color: #3B4455;\n",
              "      fill: #D2E3FC;\n",
              "    }\n",
              "\n",
              "    [theme=dark] .colab-df-convert:hover {\n",
              "      background-color: #434B5C;\n",
              "      box-shadow: 0px 1px 3px 1px rgba(0, 0, 0, 0.15);\n",
              "      filter: drop-shadow(0px 1px 2px rgba(0, 0, 0, 0.3));\n",
              "      fill: #FFFFFF;\n",
              "    }\n",
              "  </style>\n",
              "\n",
              "      <script>\n",
              "        const buttonEl =\n",
              "          document.querySelector('#df-55ca6e04-f518-49d4-874f-8696823bb6bb button.colab-df-convert');\n",
              "        buttonEl.style.display =\n",
              "          google.colab.kernel.accessAllowed ? 'block' : 'none';\n",
              "\n",
              "        async function convertToInteractive(key) {\n",
              "          const element = document.querySelector('#df-55ca6e04-f518-49d4-874f-8696823bb6bb');\n",
              "          const dataTable =\n",
              "            await google.colab.kernel.invokeFunction('convertToInteractive',\n",
              "                                                     [key], {});\n",
              "          if (!dataTable) return;\n",
              "\n",
              "          const docLinkHtml = 'Like what you see? Visit the ' +\n",
              "            '<a target=\"_blank\" href=https://colab.research.google.com/notebooks/data_table.ipynb>data table notebook</a>'\n",
              "            + ' to learn more about interactive tables.';\n",
              "          element.innerHTML = '';\n",
              "          dataTable['output_type'] = 'display_data';\n",
              "          await google.colab.output.renderOutput(dataTable, element);\n",
              "          const docLink = document.createElement('div');\n",
              "          docLink.innerHTML = docLinkHtml;\n",
              "          element.appendChild(docLink);\n",
              "        }\n",
              "      </script>\n",
              "    </div>\n",
              "  </div>\n",
              "  "
            ]
          },
          "metadata": {},
          "execution_count": 3
        }
      ],
      "source": [
        "# Convert heart disease column to binary\n",
        "# Presence will be 1 and Absence will be 0\n",
        "binary = {'Presence': 1, 'Absence': 0}\n",
        "df_heart['Heart Disease'] = df_heart['Heart Disease'].map(binary)\n",
        "df_heart.head()"
      ]
    },
    {
      "cell_type": "code",
      "execution_count": 4,
      "metadata": {
        "id": "dnxhpCSGq7Hm"
      },
      "outputs": [],
      "source": [
        "# Split the data into X (features) and y (target)\n",
        "# The y variable should focus on the target column\n",
        "y = df_heart['Heart Disease']\n",
        "\n",
        "# The X variable should include all features except the target\n",
        "X = df_heart.drop(columns=['Heart Disease'])"
      ]
    },
    {
      "cell_type": "code",
      "execution_count": 5,
      "metadata": {
        "id": "zw3rQT8yq7Hn"
      },
      "outputs": [],
      "source": [
        "# Use sklearn to split dataset\n",
        "from sklearn.model_selection import train_test_split\n",
        "X_train, X_test, y_train, y_test = train_test_split(X, y, random_state=78)"
      ]
    },
    {
      "cell_type": "code",
      "execution_count": 6,
      "metadata": {
        "id": "qmpF8G52q7Hn"
      },
      "outputs": [],
      "source": [
        "# Create scaler instance\n",
        "X_scaler = skl.preprocessing.StandardScaler()\n",
        "\n",
        "# Fit the scaler\n",
        "X_scaler.fit(X_train)\n",
        "\n",
        "# Scale the data\n",
        "X_train_scaled = X_scaler.transform(X_train)\n",
        "X_test_scaled = X_scaler.transform(X_test)"
      ]
    },
    {
      "cell_type": "code",
      "execution_count": 7,
      "metadata": {
        "id": "QSG8hTYyq7Hn"
      },
      "outputs": [],
      "source": [
        "# Create the Keras Sequential model\n",
        "nn_model = tf.keras.models.Sequential()"
      ]
    },
    {
      "cell_type": "code",
      "execution_count": 8,
      "metadata": {
        "id": "t-MtzU8Mq7Ho"
      },
      "outputs": [],
      "source": [
        "# Add our first Dense layer, including the input layer\n",
        "nn_model.add(tf.keras.layers.Dense(units=10, activation=\"relu\", input_dim=13))"
      ]
    },
    {
      "cell_type": "code",
      "execution_count": 9,
      "metadata": {
        "id": "e5fn9t7Rq7Ho"
      },
      "outputs": [],
      "source": [
        "# Add addtional layer\n",
        "nn_model.add(tf.keras.layers.Dense(units=10, activation=\"relu\"))\n",
        "nn_model.add(tf.keras.layers.Dense(units=10, activation=\"relu\"))"
      ]
    },
    {
      "cell_type": "code",
      "execution_count": 10,
      "metadata": {
        "id": "HWN8HIDjq7Hp"
      },
      "outputs": [],
      "source": [
        "# Add the output layer that uses a probability activation function\n",
        "nn_model.add(tf.keras.layers.Dense(units=1, activation=\"sigmoid\"))"
      ]
    },
    {
      "cell_type": "code",
      "execution_count": 11,
      "metadata": {
        "colab": {
          "base_uri": "https://localhost:8080/"
        },
        "id": "g5P3z3Nvq7Hp",
        "outputId": "b01606c5-6615-4a5f-9391-ed34507918b9"
      },
      "outputs": [
        {
          "output_type": "stream",
          "name": "stdout",
          "text": [
            "Model: \"sequential\"\n",
            "_________________________________________________________________\n",
            " Layer (type)                Output Shape              Param #   \n",
            "=================================================================\n",
            " dense (Dense)               (None, 10)                140       \n",
            "                                                                 \n",
            " dense_1 (Dense)             (None, 10)                110       \n",
            "                                                                 \n",
            " dense_2 (Dense)             (None, 10)                110       \n",
            "                                                                 \n",
            " dense_3 (Dense)             (None, 1)                 11        \n",
            "                                                                 \n",
            "=================================================================\n",
            "Total params: 371\n",
            "Trainable params: 371\n",
            "Non-trainable params: 0\n",
            "_________________________________________________________________\n"
          ]
        }
      ],
      "source": [
        "# Check the structure of the Sequential model\n",
        "nn_model.summary()"
      ]
    },
    {
      "cell_type": "code",
      "execution_count": 12,
      "metadata": {
        "id": "xahCOVssq7Hp"
      },
      "outputs": [],
      "source": [
        "# Compile the Sequential model together and customize metrics\n",
        "nn_model.compile(loss=\"binary_crossentropy\", optimizer=\"adam\", metrics=[\"accuracy\"])"
      ]
    },
    {
      "cell_type": "code",
      "execution_count": 13,
      "metadata": {
        "colab": {
          "base_uri": "https://localhost:8080/"
        },
        "id": "isNsqyfKq7Hp",
        "outputId": "dad31f0c-1151-4ed4-e578-b55bfeafc325"
      },
      "outputs": [
        {
          "output_type": "stream",
          "name": "stdout",
          "text": [
            "Epoch 1/75\n",
            "7/7 [==============================] - 1s 4ms/step - loss: 0.7905 - accuracy: 0.5198\n",
            "Epoch 2/75\n",
            "7/7 [==============================] - 0s 4ms/step - loss: 0.7451 - accuracy: 0.5396\n",
            "Epoch 3/75\n",
            "7/7 [==============================] - 0s 3ms/step - loss: 0.7130 - accuracy: 0.5495\n",
            "Epoch 4/75\n",
            "7/7 [==============================] - 0s 4ms/step - loss: 0.6843 - accuracy: 0.5842\n",
            "Epoch 5/75\n",
            "7/7 [==============================] - 0s 3ms/step - loss: 0.6618 - accuracy: 0.6436\n",
            "Epoch 6/75\n",
            "7/7 [==============================] - 0s 3ms/step - loss: 0.6421 - accuracy: 0.6782\n",
            "Epoch 7/75\n",
            "7/7 [==============================] - 0s 3ms/step - loss: 0.6242 - accuracy: 0.7079\n",
            "Epoch 8/75\n",
            "7/7 [==============================] - 0s 3ms/step - loss: 0.6069 - accuracy: 0.7327\n",
            "Epoch 9/75\n",
            "7/7 [==============================] - 0s 4ms/step - loss: 0.5895 - accuracy: 0.7574\n",
            "Epoch 10/75\n",
            "7/7 [==============================] - 0s 3ms/step - loss: 0.5735 - accuracy: 0.7772\n",
            "Epoch 11/75\n",
            "7/7 [==============================] - 0s 3ms/step - loss: 0.5580 - accuracy: 0.7921\n",
            "Epoch 12/75\n",
            "7/7 [==============================] - 0s 4ms/step - loss: 0.5425 - accuracy: 0.8020\n",
            "Epoch 13/75\n",
            "7/7 [==============================] - 0s 3ms/step - loss: 0.5276 - accuracy: 0.7970\n",
            "Epoch 14/75\n",
            "7/7 [==============================] - 0s 3ms/step - loss: 0.5133 - accuracy: 0.8020\n",
            "Epoch 15/75\n",
            "7/7 [==============================] - 0s 3ms/step - loss: 0.4992 - accuracy: 0.7970\n",
            "Epoch 16/75\n",
            "7/7 [==============================] - 0s 3ms/step - loss: 0.4854 - accuracy: 0.8020\n",
            "Epoch 17/75\n",
            "7/7 [==============================] - 0s 3ms/step - loss: 0.4737 - accuracy: 0.8218\n",
            "Epoch 18/75\n",
            "7/7 [==============================] - 0s 4ms/step - loss: 0.4609 - accuracy: 0.8267\n",
            "Epoch 19/75\n",
            "7/7 [==============================] - 0s 3ms/step - loss: 0.4518 - accuracy: 0.8366\n",
            "Epoch 20/75\n",
            "7/7 [==============================] - 0s 3ms/step - loss: 0.4416 - accuracy: 0.8267\n",
            "Epoch 21/75\n",
            "7/7 [==============================] - 0s 3ms/step - loss: 0.4329 - accuracy: 0.8317\n",
            "Epoch 22/75\n",
            "7/7 [==============================] - 0s 3ms/step - loss: 0.4253 - accuracy: 0.8267\n",
            "Epoch 23/75\n",
            "7/7 [==============================] - 0s 3ms/step - loss: 0.4182 - accuracy: 0.8317\n",
            "Epoch 24/75\n",
            "7/7 [==============================] - 0s 3ms/step - loss: 0.4117 - accuracy: 0.8317\n",
            "Epoch 25/75\n",
            "7/7 [==============================] - 0s 3ms/step - loss: 0.4071 - accuracy: 0.8317\n",
            "Epoch 26/75\n",
            "7/7 [==============================] - 0s 3ms/step - loss: 0.4015 - accuracy: 0.8317\n",
            "Epoch 27/75\n",
            "7/7 [==============================] - 0s 3ms/step - loss: 0.3980 - accuracy: 0.8317\n",
            "Epoch 28/75\n",
            "7/7 [==============================] - 0s 3ms/step - loss: 0.3938 - accuracy: 0.8317\n",
            "Epoch 29/75\n",
            "7/7 [==============================] - 0s 3ms/step - loss: 0.3901 - accuracy: 0.8317\n",
            "Epoch 30/75\n",
            "7/7 [==============================] - 0s 3ms/step - loss: 0.3875 - accuracy: 0.8366\n",
            "Epoch 31/75\n",
            "7/7 [==============================] - 0s 4ms/step - loss: 0.3841 - accuracy: 0.8366\n",
            "Epoch 32/75\n",
            "7/7 [==============================] - 0s 3ms/step - loss: 0.3812 - accuracy: 0.8366\n",
            "Epoch 33/75\n",
            "7/7 [==============================] - 0s 3ms/step - loss: 0.3784 - accuracy: 0.8366\n",
            "Epoch 34/75\n",
            "7/7 [==============================] - 0s 4ms/step - loss: 0.3760 - accuracy: 0.8416\n",
            "Epoch 35/75\n",
            "7/7 [==============================] - 0s 3ms/step - loss: 0.3737 - accuracy: 0.8366\n",
            "Epoch 36/75\n",
            "7/7 [==============================] - 0s 3ms/step - loss: 0.3708 - accuracy: 0.8366\n",
            "Epoch 37/75\n",
            "7/7 [==============================] - 0s 3ms/step - loss: 0.3683 - accuracy: 0.8366\n",
            "Epoch 38/75\n",
            "7/7 [==============================] - 0s 3ms/step - loss: 0.3662 - accuracy: 0.8366\n",
            "Epoch 39/75\n",
            "7/7 [==============================] - 0s 4ms/step - loss: 0.3645 - accuracy: 0.8366\n",
            "Epoch 40/75\n",
            "7/7 [==============================] - 0s 3ms/step - loss: 0.3623 - accuracy: 0.8416\n",
            "Epoch 41/75\n",
            "7/7 [==============================] - 0s 3ms/step - loss: 0.3599 - accuracy: 0.8366\n",
            "Epoch 42/75\n",
            "7/7 [==============================] - 0s 3ms/step - loss: 0.3575 - accuracy: 0.8366\n",
            "Epoch 43/75\n",
            "7/7 [==============================] - 0s 3ms/step - loss: 0.3552 - accuracy: 0.8366\n",
            "Epoch 44/75\n",
            "7/7 [==============================] - 0s 3ms/step - loss: 0.3532 - accuracy: 0.8366\n",
            "Epoch 45/75\n",
            "7/7 [==============================] - 0s 4ms/step - loss: 0.3506 - accuracy: 0.8366\n",
            "Epoch 46/75\n",
            "7/7 [==============================] - 0s 4ms/step - loss: 0.3488 - accuracy: 0.8416\n",
            "Epoch 47/75\n",
            "7/7 [==============================] - 0s 3ms/step - loss: 0.3466 - accuracy: 0.8465\n",
            "Epoch 48/75\n",
            "7/7 [==============================] - 0s 3ms/step - loss: 0.3447 - accuracy: 0.8465\n",
            "Epoch 49/75\n",
            "7/7 [==============================] - 0s 3ms/step - loss: 0.3428 - accuracy: 0.8465\n",
            "Epoch 50/75\n",
            "7/7 [==============================] - 0s 3ms/step - loss: 0.3409 - accuracy: 0.8465\n",
            "Epoch 51/75\n",
            "7/7 [==============================] - 0s 3ms/step - loss: 0.3388 - accuracy: 0.8515\n",
            "Epoch 52/75\n",
            "7/7 [==============================] - 0s 3ms/step - loss: 0.3372 - accuracy: 0.8515\n",
            "Epoch 53/75\n",
            "7/7 [==============================] - 0s 4ms/step - loss: 0.3345 - accuracy: 0.8564\n",
            "Epoch 54/75\n",
            "7/7 [==============================] - 0s 3ms/step - loss: 0.3326 - accuracy: 0.8564\n",
            "Epoch 55/75\n",
            "7/7 [==============================] - 0s 4ms/step - loss: 0.3306 - accuracy: 0.8564\n",
            "Epoch 56/75\n",
            "7/7 [==============================] - 0s 3ms/step - loss: 0.3288 - accuracy: 0.8564\n",
            "Epoch 57/75\n",
            "7/7 [==============================] - 0s 3ms/step - loss: 0.3269 - accuracy: 0.8515\n",
            "Epoch 58/75\n",
            "7/7 [==============================] - 0s 3ms/step - loss: 0.3250 - accuracy: 0.8663\n",
            "Epoch 59/75\n",
            "7/7 [==============================] - 0s 4ms/step - loss: 0.3233 - accuracy: 0.8614\n",
            "Epoch 60/75\n",
            "7/7 [==============================] - 0s 3ms/step - loss: 0.3211 - accuracy: 0.8564\n",
            "Epoch 61/75\n",
            "7/7 [==============================] - 0s 3ms/step - loss: 0.3190 - accuracy: 0.8564\n",
            "Epoch 62/75\n",
            "7/7 [==============================] - 0s 3ms/step - loss: 0.3168 - accuracy: 0.8564\n",
            "Epoch 63/75\n",
            "7/7 [==============================] - 0s 4ms/step - loss: 0.3150 - accuracy: 0.8614\n",
            "Epoch 64/75\n",
            "7/7 [==============================] - 0s 4ms/step - loss: 0.3135 - accuracy: 0.8564\n",
            "Epoch 65/75\n",
            "7/7 [==============================] - 0s 3ms/step - loss: 0.3125 - accuracy: 0.8564\n",
            "Epoch 66/75\n",
            "7/7 [==============================] - 0s 3ms/step - loss: 0.3097 - accuracy: 0.8663\n",
            "Epoch 67/75\n",
            "7/7 [==============================] - 0s 3ms/step - loss: 0.3080 - accuracy: 0.8614\n",
            "Epoch 68/75\n",
            "7/7 [==============================] - 0s 3ms/step - loss: 0.3064 - accuracy: 0.8663\n",
            "Epoch 69/75\n",
            "7/7 [==============================] - 0s 5ms/step - loss: 0.3043 - accuracy: 0.8663\n",
            "Epoch 70/75\n",
            "7/7 [==============================] - 0s 3ms/step - loss: 0.3028 - accuracy: 0.8614\n",
            "Epoch 71/75\n",
            "7/7 [==============================] - 0s 3ms/step - loss: 0.3012 - accuracy: 0.8614\n",
            "Epoch 72/75\n",
            "7/7 [==============================] - 0s 3ms/step - loss: 0.2991 - accuracy: 0.8614\n",
            "Epoch 73/75\n",
            "7/7 [==============================] - 0s 3ms/step - loss: 0.2979 - accuracy: 0.8614\n",
            "Epoch 74/75\n",
            "7/7 [==============================] - 0s 4ms/step - loss: 0.2960 - accuracy: 0.8663\n",
            "Epoch 75/75\n",
            "7/7 [==============================] - 0s 3ms/step - loss: 0.2950 - accuracy: 0.8663\n"
          ]
        }
      ],
      "source": [
        "# Fit the model to the training data\n",
        "fit_model = nn_model.fit(X_train_scaled, y_train, epochs=75)"
      ]
    },
    {
      "cell_type": "code",
      "execution_count": 14,
      "metadata": {
        "colab": {
          "base_uri": "https://localhost:8080/"
        },
        "id": "F_NttpfKq7Hp",
        "outputId": "e1cbcbc7-f7ae-4416-eead-4e512d2d31eb"
      },
      "outputs": [
        {
          "output_type": "stream",
          "name": "stdout",
          "text": [
            "3/3 - 0s - loss: 0.4299 - accuracy: 0.8088 - 186ms/epoch - 62ms/step\n",
            "Loss: 0.4299476146697998, Accuracy: 0.8088235259056091\n"
          ]
        }
      ],
      "source": [
        "# Evaluate the model using the test data\n",
        "model_loss, model_accuracy = nn_model.evaluate(X_test_scaled,y_test,verbose=2)\n",
        "print(f\"Loss: {model_loss}, Accuracy: {model_accuracy}\")"
      ]
    },
    {
      "cell_type": "code",
      "execution_count": 15,
      "metadata": {
        "colab": {
          "base_uri": "https://localhost:8080/",
          "height": 447
        },
        "id": "cIfv2aFpq7Hq",
        "outputId": "3e162d3a-26fc-482a-9065-182398d0dce8"
      },
      "outputs": [
        {
          "output_type": "execute_result",
          "data": {
            "text/plain": [
              "<Axes: >"
            ]
          },
          "metadata": {},
          "execution_count": 15
        },
        {
          "output_type": "display_data",
          "data": {
            "text/plain": [
              "<Figure size 640x480 with 1 Axes>"
            ],
            "image/png": "[encoded data removed]"
          },
          "metadata": {}
        }
      ],
      "source": [
        "# Create a DataFrame containing training history\n",
        "history_df = pd.DataFrame(fit_model.history, index=range(1,len(fit_model.history[\"loss\"])+1))\n",
        "\n",
        "# Plot the accuracy\n",
        "history_df.plot(y=\"accuracy\")"
      ]
    },
    {
      "cell_type": "code",
      "execution_count": null,
      "metadata": {
        "id": "JWW0_Fnwq7Hq"
      },
      "outputs": [],
      "source": [
        "# Save the model\n",
        "nn_model.save(\"nn_trained.h5\")"
      ]
    },
    {
      "cell_type": "code",
      "source": [
        "y_predict = nn_model.predict(X_test_scaled)"
      ],
      "metadata": {
        "colab": {
          "base_uri": "https://localhost:8080/"
        },
        "id": "TP6aVlWfr3s7",
        "outputId": "0185461a-6847-4c74-8668-fe2ae909fe01"
      },
      "execution_count": 16,
      "outputs": [
        {
          "output_type": "stream",
          "name": "stdout",
          "text": [
            "3/3 [==============================] - 0s 3ms/step\n"
          ]
        }
      ]
    },
    {
      "cell_type": "code",
      "source": [
        "Y_predict = np.round(y_predict)"
      ],
      "metadata": {
        "id": "kP770BT2sJsn"
      },
      "execution_count": 18,
      "outputs": []
    },
    {
      "cell_type": "code",
      "source": [
        "# Create and save the training classification report\n",
        "training_report = classification_report(y_test, Y_predict)\n",
        "\n",
        "# Print the training classification report\n",
        "print(training_report)"
      ],
      "metadata": {
        "colab": {
          "base_uri": "https://localhost:8080/"
        },
        "id": "sLFHrjfWsbmv",
        "outputId": "bc28c707-c9dc-4229-e547-3b86fb5f1fc6"
      },
      "execution_count": 19,
      "outputs": [
        {
          "output_type": "stream",
          "name": "stdout",
          "text": [
            "              precision    recall  f1-score   support\n",
            "\n",
            "           0       0.87      0.74      0.80        35\n",
            "           1       0.76      0.88      0.82        33\n",
            "\n",
            "    accuracy                           0.81        68\n",
            "   macro avg       0.81      0.81      0.81        68\n",
            "weighted avg       0.82      0.81      0.81        68\n",
            "\n"
          ]
        }
      ]
    }
  ],
  "metadata": {
    "kernelspec": {
      "display_name": "PythonData",
      "language": "python",
      "name": "python3"
    },
    "language_info": {
      "codemirror_mode": {
        "name": "ipython",
        "version": 3
      },
      "file_extension": ".py",
      "mimetype": "text/x-python",
      "name": "python",
      "nbconvert_exporter": "python",
      "pygments_lexer": "ipython3",
      "version": "3.7.7"
    },
    "orig_nbformat": 4,
    "colab": {
      "provenance": []
    }
  },
  "nbformat": 4,
  "nbformat_minor": 0
}